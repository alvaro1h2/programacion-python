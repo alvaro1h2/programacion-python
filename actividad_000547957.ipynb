{
  "nbformat": 4,
  "nbformat_minor": 0,
  "metadata": {
    "colab": {
      "provenance": [],
      "authorship_tag": "ABX9TyPimajiMq62mYCKtM+wPghI",
      "include_colab_link": true
    },
    "kernelspec": {
      "name": "python3",
      "display_name": "Python 3"
    },
    "language_info": {
      "name": "python"
    }
  },
  "cells": [
    {
      "cell_type": "markdown",
      "metadata": {
        "id": "view-in-github",
        "colab_type": "text"
      },
      "source": [
        "<a href=\"https://colab.research.google.com/github/alvaro1h2/programacion-python/blob/main/actividad_000547957.ipynb\" target=\"_parent\"><img src=\"https://colab.research.google.com/assets/colab-badge.svg\" alt=\"Open In Colab\"/></a>"
      ]
    },
    {
      "cell_type": "code",
      "source": [
        "def generate_board(size, options):\n",
        "  board = size * options\n",
        "  return board\n",
        "\n",
        "def show_board(board):\n",
        "  print(board)\n",
        "\n",
        "def hide_value(board):\n",
        "  secret_value = board / 2\n",
        "  board += 1\n",
        "  return secret_value, board\n",
        "\n",
        "def play_game(size, options):\n",
        "  board = generate_board(size, options)\n",
        "  show_board(board)\n",
        "  secret_value, board = hide_value(board)\n",
        "  show_board(board)\n",
        "\n",
        "def main():\n",
        "    print(\"Bienvenido\")\n",
        "    size = int(input(\"Tamaño: \"))\n",
        "    options = 5\n",
        "    play_game(size, options)\n",
        "\n",
        "if __name__ == \"__main__\":\n",
        "    main()"
      ],
      "metadata": {
        "id": "i2pZwf12aMxl"
      },
      "execution_count": null,
      "outputs": []
    },
    {
      "cell_type": "code",
      "source": [
        "import random\n",
        "\n",
        "def generate_board(size):\n",
        "  \"\"\"Generates a board filled with numbers and letters.\"\"\"\n",
        "  board = []\n",
        "  for _ in range(size):\n",
        "    row = []\n",
        "    for _ in range(size):\n",
        "      if random.random() < 0.5:\n",
        "        row.append(str(random.randint(1, 9)))\n",
        "      else:\n",
        "        row.append(chr(random.randint(65, 65 + 5)))\n",
        "    board.append(row)\n",
        "  return board\n",
        "\n",
        "def show_board(board):\n",
        "  \"\"\"Prints the board in a user-friendly format.\"\"\"\n",
        "  for row in board:\n",
        "    for cell in row:\n",
        "      print(cell, end=\" \")\n",
        "    print()\n",
        "\n",
        "def shuffle_board(board):\n",
        "  \"\"\"Shuffles the values within the board.\"\"\"\n",
        "  random.shuffle(board)\n",
        "  for row in board:\n",
        "    random.shuffle(row)\n",
        "\n",
        "def hide_value(board):\n",
        "  \"\"\"Hides a random cell's value and returns its coordinates.\"\"\"\n",
        "  secret_row = random.randint(0, len(board) - 1)\n",
        "  secret_col = random.randint(0, len(board[0]) - 1)\n",
        "  secret_value = board[secret_row][secret_col]\n",
        "  board[secret_row][secret_col] = \"*\"\n",
        "  return secret_row, secret_col, secret_value\n",
        "\n",
        "def play_game(size):\n",
        "  \"\"\"Manages the core gameplay loop.\"\"\"\n",
        "  board = generate_board(size)\n",
        "  show_board(board)\n",
        "\n",
        "  secret_row, secret_col, secret_value = hide_value(board)\n",
        "  guesses = 0\n",
        "\n",
        "  while True:\n",
        "    guess_row = int(input(\"Fila (1-\" + str(size) + \"): \")) - 1\n",
        "    guess_col = int(input(\"Columna (1-\" + str(size) + \"): \")) - 1\n",
        "\n",
        "    if 0 <= guess_row < size and 0 <= guess_col < size:\n",
        "      if guess_row == secret_row and guess_col == secret_col:\n",
        "        guesses += 1\n",
        "        print(\"¡Correcto! Lo adivinaste en\", guesses, \"intentos.\")\n",
        "        show_board(board)\n",
        "        break\n",
        "      else:\n",
        "        guesses += 1\n",
        "        print(\"Incorrecto. Intenta de nuevo.\")\n",
        "        shuffle_board(board)\n",
        "        hide_value(board)\n",
        "        show_board(board)\n",
        "        break\n",
        "    else:\n",
        "      print(\"Fuera de rango. Ingresa valores entre 1 y\", size)\n",
        "\n",
        "def main():\n",
        "  \"\"\"Starts the game.\"\"\"\n",
        "  print(\"Bienvenido al juego de adivinar números y letras\")\n",
        "  size = int(input(\"Tamaño del tablero (mínimo 3): \"))\n",
        "  while size < 3:\n",
        "    size = int(input(\"El tamaño debe ser al menos 3. Ingresa un valor válido: \"))\n",
        "  play_game(size)\n",
        "\n",
        "if __name__ == \"__main__\":\n",
        "  main()\n"
      ],
      "metadata": {
        "id": "ceMAZ1bPaexk",
        "outputId": "55f4ab02-e1e7-4567-87dd-9dd41217ee3a",
        "colab": {
          "base_uri": "https://localhost:8080/"
        }
      },
      "execution_count": 9,
      "outputs": [
        {
          "output_type": "stream",
          "name": "stdout",
          "text": [
            "Bienvenido al juego de adivinar números y letras\n",
            "Tamaño del tablero (mínimo 3): 3\n",
            "D B 7 \n",
            "D 7 6 \n",
            "E C C \n",
            "Fila (1-3): 3\n",
            "Columna (1-3): 3\n",
            "Incorrecto. Intenta de nuevo.\n",
            "* 7 B \n",
            "D 6 7 \n",
            "* C C \n"
          ]
        }
      ]
    }
  ]
}