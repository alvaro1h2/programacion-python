{
  "nbformat": 4,
  "nbformat_minor": 0,
  "metadata": {
    "colab": {
      "provenance": [],
      "authorship_tag": "ABX9TyNzO7uhdfLDQL7zi4PRAFLQ",
      "include_colab_link": true
    },
    "kernelspec": {
      "name": "python3",
      "display_name": "Python 3"
    },
    "language_info": {
      "name": "python"
    }
  },
  "cells": [
    {
      "cell_type": "markdown",
      "metadata": {
        "id": "view-in-github",
        "colab_type": "text"
      },
      "source": [
        "<a href=\"https://colab.research.google.com/github/alvaro1h2/programacion-python/blob/main/actividad_3_000547957.ipynb\" target=\"_parent\"><img src=\"https://colab.research.google.com/assets/colab-badge.svg\" alt=\"Open In Colab\"/></a>"
      ]
    },
    {
      "cell_type": "code",
      "execution_count": 11,
      "metadata": {
        "colab": {
          "base_uri": "https://localhost:8080/"
        },
        "id": "avbbjFD9ocrJ",
        "outputId": "c2985852-31f8-4297-fc04-6c68d5966b40"
      },
      "outputs": [
        {
          "output_type": "stream",
          "name": "stdout",
          "text": [
            "Cloning into 'programacion-python'...\n",
            "remote: Enumerating objects: 4, done.\u001b[K\n",
            "remote: Counting objects: 100% (4/4), done.\u001b[K\n",
            "remote: Compressing objects: 100% (4/4), done.\u001b[K\n",
            "remote: Total 4 (delta 0), reused 0 (delta 0), pack-reused 0\u001b[K\n",
            "Receiving objects: 100% (4/4), 14.16 KiB | 2.02 MiB/s, done.\n"
          ]
        }
      ],
      "source": [
        "\n",
        "!git clone https://github.com/alvaro1h2/programacion-python.git"
      ]
    },
    {
      "cell_type": "code",
      "source": [
        "import math\n",
        "\n",
        "def fdp(x, mu, sigma):\n",
        "    return (1 / (sigma * math.sqrt(2 * math.pi))) * math.exp(-0.5 * ((x - mu) / sigma) ** 2)\n",
        "\n",
        "def filtro_gaussiano(frecuencia):\n",
        "    mu = 1000  # media\n",
        "    sigma = 300  # desviación estándar\n",
        "    prob_acumulada = 0\n",
        "    paso = 1  # paso de 1 Hz para las iteraciones\n",
        "    for x in range(0, frecuencia + paso, paso):\n",
        "        prob_acumulada += fdp(x, mu, sigma) * paso\n",
        "    if prob_acumulada > 0.3:\n",
        "        return \"La señal pasa el filtro.\"\n",
        "    else:\n",
        "        return \"La señal es bloqueada por el filtro.\"\n",
        "\n",
        "# Ejemplo de uso\n",
        "frecuencia_señal = 1200  # Hz\n",
        "print(filtro_gaussiano(frecuencia_señal))"
      ],
      "metadata": {
        "colab": {
          "base_uri": "https://localhost:8080/"
        },
        "id": "l9i8nYp2JloR",
        "outputId": "5db50944-6f65-4272-de7b-e4b350073b52"
      },
      "execution_count": 12,
      "outputs": [
        {
          "output_type": "stream",
          "name": "stdout",
          "text": [
            "La señal pasa el filtro.\n"
          ]
        }
      ]
    }
  ]
}